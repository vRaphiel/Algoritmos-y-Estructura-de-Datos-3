{
 "cells": [
  {
   "cell_type": "markdown",
   "metadata": {},
   "source": [
    "# Correr experimentos\n",
    "En este archivo está el código para correr los experimentos y escribir los resultados en archivos CSV.\n",
    "> Los archivos se guardan en la carpeta _resultados_."
   ]
  },
  {
   "cell_type": "code",
   "execution_count": 1,
   "metadata": {},
   "outputs": [],
   "source": [
    "import math, subprocess\n",
    "import pandas as pd\n",
    "import numpy as np\n",
    "import os\n",
    "from IPython.display import display, clear_output"
   ]
  },
  {
   "cell_type": "markdown",
   "metadata": {},
   "source": [
    "A continuación leemos los datasets en dataframes de Pandas."
   ]
  },
  {
   "cell_type": "code",
   "execution_count": 2,
   "metadata": {},
   "outputs": [],
   "source": [
    "def leer_instancia(path_instancia):\n",
    "    with open(path_instancia, \"r\") as f:\n",
    "        return f.read();"
   ]
  },
  {
   "cell_type": "markdown",
   "metadata": {},
   "source": [
    "La siguiente función sirve para correr el código sobre una instancia ejecutando un método en particular.\n",
    "- FB: Fuerza bruta\n",
    "- BT: Backtracking con poda por factibilidad.\n",
    "- BT-O: Backtracking con poda por factibilidad y optimalidad.\n",
    "- DP: Programación dinámica."
   ]
  },
  {
   "cell_type": "code",
   "execution_count": 3,
   "metadata": {},
   "outputs": [],
   "source": [
    "def correr_experimento(metodo, archivo_instancia):\n",
    "    # Leer archivo de la instancia.\n",
    "    instancia = leer_instancia(archivo_instancia)\n",
    "    \n",
    "    # Crear proceso para ejecutar el codigo.\n",
    "    process = subprocess.Popen([\"./negociospormedio\", metodo], stderr=subprocess.PIPE, stdout=subprocess.PIPE, stdin=subprocess.PIPE, universal_newlines = True)\n",
    "\n",
    "    # Poner la instancia en la entrada estandar.\n",
    "    process.stdin.write(instancia)\n",
    "    process.stdin.flush()\n",
    "\n",
    "    # Correr experimento.\n",
    "    exit_code = process.wait()\n",
    "\n",
    "    # Verificar que el proceso no fallo.\n",
    "    if exit_code != 0: raise(F\"Hubo un error en la experimentacion para el algoritmo: {algoritmo} con la instancia {archivo_instancia}.\")\n",
    "    # Leer salida de STDERR con los tiempos de ejecucion de cada metodo.\n",
    "    tiempo_de_ejecucion = float(process.stderr.read());\n",
    "    \n",
    "    process.stdin.close();\n",
    "    process.stdout.close();\n",
    "    process.stderr.close();\n",
    "    \n",
    "    return tiempo_de_ejecucion;"
   ]
  },
  {
   "cell_type": "code",
   "execution_count": 4,
   "metadata": {},
   "outputs": [],
   "source": [
    "def agregar_experimentos(metodo, dataframe):\n",
    "    counter_n = 1\n",
    "    n_a_agregar = 20\n",
    "    while counter_n < 50:\n",
    "        for n in range(0, 999):\n",
    "            fila_n = dataframe.iloc[n];\n",
    "            if fila_n[\"n\"] == n_a_agregar and counter_n < 50:\n",
    "                experimentos.append([fila_n[\"dataset\"], fila_n[\"n\"], fila_n[\"M\"], metodo, fila_n[\"archivo\"]])\n",
    "                if counter_n % 5 == 0:\n",
    "                    n_a_agregar = n_a_agregar + 1\n",
    "                counter_n = counter_n + 1\n",
    "                    \n",
    "                    \n",
    "# Se toman varias instancias de programación dinamica para armar los graficos de HEATMAP con mayor visualizacion.\n",
    "# Al ejecutarse en menor tiempo. Podemos permitirnos realizar mayor ejecución del programa con mayor cantidad de datos\n",
    "def agregar_experimentos_heatmap(metodo, dataframe):\n",
    "    counter_n = 1\n",
    "    n_a_agregar = 20\n",
    "    while counter_n < 300:\n",
    "        for n in range(0, 999):\n",
    "            fila_n = dataframe.iloc[n];\n",
    "            if fila_n[\"n\"] == n_a_agregar and counter_n < 300:\n",
    "                experimentos_heatmap.append([fila_n[\"dataset\"], fila_n[\"n\"], fila_n[\"M\"], metodo, fila_n[\"archivo\"]])\n",
    "                if counter_n % 30 == 0:\n",
    "                    n_a_agregar = n_a_agregar + 1\n",
    "                counter_n = counter_n + 1"
   ]
  },
  {
   "cell_type": "markdown",
   "metadata": {},
   "source": [
    "## Corremos los experimentos\n",
    "Vamos a guardar una tabla con las ejecuciones y sus respectivos tiempos."
   ]
  },
  {
   "cell_type": "code",
   "execution_count": 5,
   "metadata": {},
   "outputs": [],
   "source": [
    "dfs={}\n",
    "dfs_heatmap={}\n",
    "casos=[\"mrandommillon\", \"random\",\"MSumaCSobre2\",\"MSumaCSobre4\",\"MNoRestringe\",\"MSumaC\",\"beneficioCreciente\",\"mrandom\"]\n",
    "experimentos = []\n",
    "experimentos_heatmap = []\n",
    "metodos=[\"FB\",\"BT\",\"BT-O\",\"DP\"]\n",
    "\n",
    "\n",
    "for caso in casos:\n",
    "    dfs[caso]=pd.read_csv(F\"instancias/{caso}/indice.csv\")\n",
    "    \n",
    "\n",
    "for metodo in metodos:\n",
    "    for caso in casos:\n",
    "        agregar_experimentos(metodo, dfs[caso])\n",
    "\n",
    "        \n",
    "for caso in casos:\n",
    "    dfs_heatmap[caso]=pd.read_csv(F\"instancias/{caso}/indice.csv\")\n",
    "    agregar_experimentos_heatmap(\"DP\", dfs_heatmap[caso])\n",
    "    \n",
    "    \n",
    "if(not os.path.isdir(\"resultados\")):\n",
    "    os.mkdir(\"resultados\")"
   ]
  },
  {
   "cell_type": "markdown",
   "metadata": {},
   "source": [
    "De todas las instancias, tomamos las que tienen 20 o mas negocios para poder efectuar un analisis entre tiempos comparables. En caso contrario, se colapsan y no se obtiene mucha información."
   ]
  },
  {
   "cell_type": "markdown",
   "metadata": {},
   "source": [
    "## Ejecutar los experimentos y guardar los resultados en un archivo CSV.\n",
    "Este paso puede tardar unos minutos hasta terminar de ejecutarse."
   ]
  },
  {
   "cell_type": "code",
   "execution_count": 9,
   "metadata": {},
   "outputs": [
    {
     "data": {
      "text/plain": [
       "'Experimento: 1568/1568'"
      ]
     },
     "metadata": {},
     "output_type": "display_data"
    },
    {
     "data": {
      "text/plain": [
       "'Method: DP'"
      ]
     },
     "metadata": {},
     "output_type": "display_data"
    },
    {
     "data": {
      "text/plain": [
       "'Path: instancias/mrandom/NPM-mrandom-266.txt'"
      ]
     },
     "metadata": {},
     "output_type": "display_data"
    }
   ],
   "source": [
    "columnas = [\"dataset\", \"n\", \"M\", \"metodo\", \"tiempo\"];\n",
    "filas = [];\n",
    "numero = 1\n",
    "T = 5 # Numero de veces que se ejecuta cada experimento (para mayor fidelidad del tiempo).\n",
    "for experimento in experimentos:\n",
    "    # Voy mostrando que experimento se esta ejecutando.\n",
    "    clear_output(wait=True)\n",
    "    display('Experimento: ' + str(numero) + \"/\" + str(len(experimentos)))\n",
    "    display('Method: ' + str(experimento[3]))\n",
    "    display('Path: ' + str(experimento[4]))\n",
    "    numero += 1\n",
    "    \n",
    "    # Ejecutamos el experimento T veces y obtenemos la mediana.\n",
    "    tiempos = []\n",
    "    for i in range(0, T):\n",
    "        tiempos.append(correr_experimento(experimento[3], experimento[4]));\n",
    "    tiempo = np.median(tiempos);\n",
    "    filas.append([experimento[0], experimento[1], experimento[2], experimento[3], tiempo]);\n",
    "df_resultado = pd.DataFrame(filas, columns=columnas);\n",
    "df_resultado.to_csv(\"resultados/resultado.csv\", index=False, header=True);"
   ]
  },
  {
   "cell_type": "code",
   "execution_count": 8,
   "metadata": {},
   "outputs": [
    {
     "data": {
      "text/plain": [
       "'Experimento: 2392/2392'"
      ]
     },
     "metadata": {},
     "output_type": "display_data"
    },
    {
     "data": {
      "text/plain": [
       "'Method: DP'"
      ]
     },
     "metadata": {},
     "output_type": "display_data"
    },
    {
     "data": {
      "text/plain": [
       "'Path: instancias/mrandom/NPM-mrandom-797.txt'"
      ]
     },
     "metadata": {},
     "output_type": "display_data"
    }
   ],
   "source": [
    "columnas = [\"dataset\", \"n\", \"M\", \"metodo\", \"tiempo\"];\n",
    "filas = [];\n",
    "numero = 1\n",
    "T = 5 # Numero de veces que se ejecuta cada experimento (para mayor fidelidad del tiempo).\n",
    "for experimento in experimentos_heatmap:\n",
    "    # Voy mostrando que experimento se esta ejecutando.\n",
    "    clear_output(wait=True)\n",
    "    display('Experimento: ' + str(numero) + \"/\" + str(len(experimentos_heatmap)))\n",
    "    display('Method: ' + str(experimento[3]))\n",
    "    display('Path: ' + str(experimento[4]))\n",
    "    numero += 1\n",
    "    \n",
    "    # Ejecutamos el experimento T veces y obtenemos la mediana.\n",
    "    tiempos = []\n",
    "    for i in range(0, T):\n",
    "        tiempos.append(correr_experimento(experimento[3], experimento[4]));\n",
    "    tiempo = np.median(tiempos);\n",
    "    filas.append([experimento[0], experimento[1], experimento[2], experimento[3], tiempo]);\n",
    "df_resultado = pd.DataFrame(filas, columns=columnas);\n",
    "df_resultado.to_csv(\"resultados/resultado_heatmap.csv\", index=False, header=True);"
   ]
  }
 ],
 "metadata": {
  "kernelspec": {
   "display_name": "Python 3",
   "language": "python",
   "name": "python3"
  },
  "language_info": {
   "codemirror_mode": {
    "name": "ipython",
    "version": 3
   },
   "file_extension": ".py",
   "mimetype": "text/x-python",
   "name": "python",
   "nbconvert_exporter": "python",
   "pygments_lexer": "ipython3",
   "version": "3.8.8"
  }
 },
 "nbformat": 4,
 "nbformat_minor": 4
}
