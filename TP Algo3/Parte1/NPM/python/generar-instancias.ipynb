{
 "cells": [
  {
   "cell_type": "code",
   "execution_count": 1,
   "id": "4ca96279",
   "metadata": {},
   "outputs": [],
   "source": [
    "import random, math\n",
    "import pandas as pd\n",
    "import numpy as np\n",
    "import os\n",
    "random.seed(12345)"
   ]
  },
  {
   "cell_type": "code",
   "execution_count": 2,
   "id": "d51039a5",
   "metadata": {},
   "outputs": [],
   "source": [
    "# Generar txt y guardar instancia\n",
    "def save_instance(dataset, instance_name, H, negocios): \n",
    "    if(not os.path.isdir(\"instancias\")):\n",
    "        os.mkdir(\"instancias\")\n",
    "    if(not os.path.isdir(F\"instancias/{dataset}\")):\n",
    "        os.mkdir(F\"instancias/{dataset}\")\n",
    "    with open(F\"instancias/{dataset}/{instance_name}.txt\", \"w\") as f:\n",
    "        print(H[0], H[1], file=f)\n",
    "        for i in range(0, len(negocios)):\n",
    "            for j in range(0, len(negocios[i])):\n",
    "                print(negocios[i][j], file=f, end=\" \")\n",
    "            print(file=f, end=\"\\n\")"
   ]
  },
  {
   "cell_type": "code",
   "execution_count": 3,
   "id": "569a3194",
   "metadata": {},
   "outputs": [],
   "source": [
    "def guardar_caso_instancias_enCSV(caso,arr_instancias):\n",
    "    pd.DataFrame(arr_instancias, columns=[\"dataset\", \"instancia\", \"n\", \"M\", \"archivo\"]).to_csv(F\"instancias/{caso}/indice.csv\", index=False, header=True)"
   ]
  },
  {
   "cell_type": "markdown",
   "id": "21d14bac",
   "metadata": {},
   "source": [
    "# Caso random con M que tiende a n/25 * prom(contagios)/2"
   ]
  },
  {
   "cell_type": "code",
   "execution_count": 4,
   "id": "a429925f-332d-408d-9748-c3bdf2f32107",
   "metadata": {
    "scrolled": true
   },
   "outputs": [],
   "source": [
    "caso=\"random\";\n",
    "arr_instancias = []\n",
    "for i in range(1, 1001):\n",
    "    negocios = []\n",
    "    n = random.randint(0, 30)\n",
    "    M = random.randint(0, 30)\n",
    "    H = [n, M]\n",
    "    for j in range(0, n):\n",
    "        G = random.randint(1, 10)*5\n",
    "        C = random.randint(1, 10)*5\n",
    "        negocio = [G, C]\n",
    "        negocios.append(negocio)\n",
    "    save_instance(caso, F\"NPM-{caso}-{i}\", H, negocios)\n",
    "    arr_instancias.append([caso, F\"NPM-{caso}-{i}\", n, M, F\"instancias/{caso}/NPM-{caso}-{i}.txt\"])\n",
    "\n",
    "guardar_caso_instancias_enCSV(caso,arr_instancias)\n",
    "# Tenemos el M. Tenemos todos los contagios. Queremos meter todos los negocios aproximadamente\n",
    "# Si la suma es mucho mas grande que el M. Si son iguales. Jugamos el criterio de los consecutivos"
   ]
  },
  {
   "cell_type": "markdown",
   "id": "946194d1",
   "metadata": {},
   "source": [
    "# Caso M = prom(contagios)*n/2"
   ]
  },
  {
   "cell_type": "code",
   "execution_count": 5,
   "id": "4b45442b",
   "metadata": {
    "scrolled": true
   },
   "outputs": [],
   "source": [
    "caso=\"MSumaCSobre2\"\n",
    "caso2=\"MSumaCSobre4\"\n",
    "\n",
    "arr_instancias = []\n",
    "arr_instancias2 = []\n",
    "for i in range(1, 1001):\n",
    "    negocios = []\n",
    "    contagios = []\n",
    "\n",
    "    n = random.randint(15, 30)\n",
    "    for j in range(0, n):\n",
    "        G = random.randint(1, 10)*5\n",
    "        C = random.randint(5, 10)*5\n",
    "        contagios.append(C)\n",
    "        negocio = [G, C]\n",
    "        negocios.append(negocio)\n",
    "    prom = np.mean(contagios)\n",
    "    M = (int(prom)*int(n/2))\n",
    "    H = [n, M]\n",
    "    \n",
    "    save_instance(caso, F\"NPM-{caso}-{i}\", H, negocios)\n",
    "    arr_instancias.append([caso, F\"NPM-{caso}-{i}\", n, M, F\"instancias/{caso}/NPM-{caso}-{i}.txt\"])\n",
    "    \n",
    "    M = (int(prom)*int(n/4))\n",
    "    H = [n, M]\n",
    "    save_instance(caso2, F\"NPM-{caso2}-{i}\", H, negocios)\n",
    "    arr_instancias2.append([caso2, F\"NPM-{caso2}-{i}\", n, M, F\"instancias/{caso2}/NPM-{caso2}-{i}.txt\"])\n",
    "    \n",
    "guardar_caso_instancias_enCSV(caso,arr_instancias)\n",
    "guardar_caso_instancias_enCSV(caso2,arr_instancias2)"
   ]
  },
  {
   "cell_type": "markdown",
   "id": "76c8e32b",
   "metadata": {},
   "source": [
    "# Caso M = prom(contagios)*n/4"
   ]
  },
  {
   "cell_type": "code",
   "execution_count": 6,
   "id": "7fedd70a",
   "metadata": {},
   "outputs": [
    {
     "data": {
      "text/plain": [
       "'\\ncaso=\"MSumaCSobre4\"\\narr_instancias = []\\nfor i in range(1, 1001):\\n    negocios = []\\n    contagios = []\\n    n = random.randint(15, 30)\\n    for j in range(0, n):\\n        G = random.randint(1, 10)*5\\n        C = random.randint(5, 10)*5\\n        contagios.append(C)\\n        negocio = [G, C]\\n        negocios.append(negocio)\\n\\n    prom = np.mean(contagios)\\n    M = (int(prom)*int(n/4))\\n\\n    H = [n, M]\\n    save_instance(caso, F\"NPM-{caso}-{i}\", H, negocios)\\n    arr_instancias.append([caso, F\"NPM-{caso}-{i}\", n, M, F\"instancias/{caso}/NPM-{caso}-{i}.txt\"])\\n\\nguardar_caso_instancias_enCSV(caso,arr_instancias)\\n'"
      ]
     },
     "execution_count": 6,
     "metadata": {},
     "output_type": "execute_result"
    }
   ],
   "source": [
    "\"\"\"\n",
    "caso=\"MSumaCSobre4\"\n",
    "arr_instancias = []\n",
    "for i in range(1, 1001):\n",
    "    negocios = []\n",
    "    contagios = []\n",
    "    n = random.randint(15, 30)\n",
    "    for j in range(0, n):\n",
    "        G = random.randint(1, 10)*5\n",
    "        C = random.randint(5, 10)*5\n",
    "        contagios.append(C)\n",
    "        negocio = [G, C]\n",
    "        negocios.append(negocio)\n",
    "\n",
    "    prom = np.mean(contagios)\n",
    "    M = (int(prom)*int(n/4))\n",
    "\n",
    "    H = [n, M]\n",
    "    save_instance(caso, F\"NPM-{caso}-{i}\", H, negocios)\n",
    "    arr_instancias.append([caso, F\"NPM-{caso}-{i}\", n, M, F\"instancias/{caso}/NPM-{caso}-{i}.txt\"])\n",
    "\n",
    "guardar_caso_instancias_enCSV(caso,arr_instancias)\n",
    "\"\"\""
   ]
  },
  {
   "cell_type": "markdown",
   "id": "6d1a62e8",
   "metadata": {},
   "source": [
    "# Caso M es muy grande"
   ]
  },
  {
   "cell_type": "code",
   "execution_count": 7,
   "id": "9234695a",
   "metadata": {},
   "outputs": [],
   "source": [
    "caso=\"MNoRestringe\"\n",
    "arr_instancias = []\n",
    "for i in range(1, 1001):\n",
    "    negocios = []\n",
    "    contagios = []\n",
    "\n",
    "    n = random.randint(15, 30)\n",
    "    for j in range(0, n):\n",
    "        G = random.randint(1, 10)*5\n",
    "        C = random.randint(5, 10)*5\n",
    "        contagios.append(C)\n",
    "        negocio = [G, C]\n",
    "        negocios.append(negocio)\n",
    "    M = np.sum(contagios)*2\n",
    "\n",
    "    H = [n, M]\n",
    "    save_instance(caso, F\"NPM-{caso}-{i}\", H, negocios)\n",
    "    arr_instancias.append([caso, F\"NPM-{caso}-{i}\", n, M, F\"instancias/{caso}/NPM-{caso}-{i}.txt\"])\n",
    "\n",
    "guardar_caso_instancias_enCSV(caso,arr_instancias)"
   ]
  },
  {
   "cell_type": "markdown",
   "id": "a04cf288",
   "metadata": {},
   "source": [
    "# Caso M es la suma de los contagios | Caso Ganancia al Final"
   ]
  },
  {
   "cell_type": "code",
   "execution_count": 8,
   "id": "6c04e087",
   "metadata": {},
   "outputs": [],
   "source": [
    "# Metodo primitivo bubble sort\n",
    "def bubbleSort(negocios):\n",
    "    n = len(negocios)\n",
    "  \n",
    "    for i in range(n-1):\n",
    "        for j in range(0, n-i-1):\n",
    "            if negocios[j][0] > negocios[j + 1][0] :\n",
    "                negocios[j], negocios[j + 1] = negocios[j + 1], negocios[j]"
   ]
  },
  {
   "cell_type": "code",
   "execution_count": 9,
   "id": "7d7273ba",
   "metadata": {},
   "outputs": [],
   "source": [
    "caso1=\"MSumaC\"\n",
    "caso2=\"beneficioCreciente\"\n",
    "caso3=\"mrandommillon\"\n",
    "\n",
    "# Filas de MSumaC\n",
    "arr_instancias1 = []\n",
    "# Filas de Ganancia Al Final\n",
    "arr_instancias2 = []\n",
    "# Filas de M Random Millon\n",
    "arr_instancias3 = []\n",
    "for i in range(1, 1001):\n",
    "    negocios = []\n",
    "    contagios = []\n",
    "\n",
    "    n = random.randint(15, 30)\n",
    "    \n",
    "    for j in range(0, n):\n",
    "        G = random.randint(1, 10)*5\n",
    "        C = random.randint(5, 10)*5\n",
    "        contagios.append(C)\n",
    "        negocio = [G, C]\n",
    "        negocios.append(negocio)\n",
    "    M = np.sum(contagios)\n",
    "    H = [n, M]\n",
    "    \n",
    "    # Genero MSumaC\n",
    "    save_instance(caso1, F\"NPM-{caso1}-{i}\", H, negocios)\n",
    "    arr_instancias1.append([caso1, F\"NPM-{caso1}-{i}\", n, M, F\"instancias/{caso1}/NPM-{caso1}-{i}.txt\"])\n",
    "    \n",
    "    # Genero Random con M entre suma y 1m\n",
    "    Cont = random.randint(M, 1000000)\n",
    "    Header = [n, Cont]\n",
    "    save_instance(caso3, F\"NPM-{caso3}-{i}\", Header, negocios)\n",
    "    arr_instancias3.append([caso3, F\"NPM-{caso3}-{i}\", n, Cont, F\"instancias/{caso3}/NPM-{caso3}-{i}.txt\"])\n",
    "    \n",
    "    # Genero BeneficioCreciente\n",
    "    bubbleSort(negocios)\n",
    "    save_instance(caso2, F\"NPM-{caso2}-{i}\", H, negocios)\n",
    "    arr_instancias2.append([caso2, F\"NPM-{caso2}-{i}\", n, M, F\"instancias/{caso2}/NPM-{caso2}-{i}.txt\"])\n",
    "\n",
    "guardar_caso_instancias_enCSV(caso1,arr_instancias1)\n",
    "guardar_caso_instancias_enCSV(caso2,arr_instancias2)\n",
    "guardar_caso_instancias_enCSV(caso3,arr_instancias3)"
   ]
  },
  {
   "cell_type": "markdown",
   "id": "86250350",
   "metadata": {},
   "source": [
    "# Caso Extremo"
   ]
  },
  {
   "cell_type": "code",
   "execution_count": 10,
   "id": "65a8b409",
   "metadata": {},
   "outputs": [],
   "source": [
    "caso=\"mrandom\"\n",
    "arr_instancias = []\n",
    "for i in range(1, 1001):\n",
    "    negocios = []\n",
    "    contagios = []\n",
    "    n = random.randint(0, 30)\n",
    "    \n",
    "    H = [n, M]\n",
    "    for j in range(0, n):\n",
    "        G = random.randint(1, 10)*5\n",
    "        C = random.randint(1, 10)*5\n",
    "        contagios.append(C)\n",
    "        negocio = [G, C]\n",
    "        negocios.append(negocio)\n",
    "        \n",
    "    M = random.randint(0, np.sum(contagios))\n",
    "    H = [n, M]\n",
    "    save_instance(caso, F\"NPM-{caso}-{i}\", H, negocios)\n",
    "    arr_instancias.append([caso, F\"NPM-{caso}-{i}\", n, M, F\"instancias/{caso}/NPM-{caso}-{i}.txt\"])\n",
    "    \n",
    "guardar_caso_instancias_enCSV(caso,arr_instancias)\n",
    "\n",
    "# Tenemos el M. Tenemos todos los contagios. Queremos meter todos los negocios aproximadamente\n",
    "# Si la suma es mucho mas grande que el M. Si son iguales. Jugamos el criterio de los consecutivos"
   ]
  }
 ],
 "metadata": {
  "kernelspec": {
   "display_name": "Python 3",
   "language": "python",
   "name": "python3"
  },
  "language_info": {
   "codemirror_mode": {
    "name": "ipython",
    "version": 3
   },
   "file_extension": ".py",
   "mimetype": "text/x-python",
   "name": "python",
   "nbconvert_exporter": "python",
   "pygments_lexer": "ipython3",
   "version": "3.8.8"
  }
 },
 "nbformat": 4,
 "nbformat_minor": 5
}
