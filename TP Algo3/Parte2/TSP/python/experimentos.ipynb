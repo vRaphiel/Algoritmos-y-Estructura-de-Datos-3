{
 "cells": [
  {
   "cell_type": "code",
   "execution_count": 1,
   "metadata": {},
   "outputs": [],
   "source": [
    "import math, subprocess\n",
    "import pandas as pd\n",
    "import numpy as np\n",
    "from IPython.display import display, clear_output"
   ]
  },
  {
   "cell_type": "code",
   "execution_count": 2,
   "metadata": {},
   "outputs": [],
   "source": [
    "def leer_instancia(path_instancia):\n",
    "    with open(path_instancia, \"r\") as f:\n",
    "        return f.read();\n",
    "    \n",
    "df_dadas = pd.read_csv(\"instancias/dadas/indice.csv\");\n",
    "df_random = pd.read_csv(\"instancias/random/indice.csv\");\n",
    "df_randomVariacionAlta = pd.read_csv(\"instancias/randomVariacionAlta/indice.csv\");"
   ]
  },
  {
   "cell_type": "code",
   "execution_count": 3,
   "metadata": {},
   "outputs": [
    {
     "data": {
      "text/html": [
       "<div>\n",
       "<style scoped>\n",
       "    .dataframe tbody tr th:only-of-type {\n",
       "        vertical-align: middle;\n",
       "    }\n",
       "\n",
       "    .dataframe tbody tr th {\n",
       "        vertical-align: top;\n",
       "    }\n",
       "\n",
       "    .dataframe thead th {\n",
       "        text-align: right;\n",
       "    }\n",
       "</style>\n",
       "<table border=\"1\" class=\"dataframe\">\n",
       "  <thead>\n",
       "    <tr style=\"text-align: right;\">\n",
       "      <th></th>\n",
       "      <th>dataset</th>\n",
       "      <th>instancia</th>\n",
       "      <th>N</th>\n",
       "      <th>m</th>\n",
       "      <th>archivo</th>\n",
       "    </tr>\n",
       "  </thead>\n",
       "  <tbody>\n",
       "    <tr>\n",
       "      <th>0</th>\n",
       "      <td>dadas</td>\n",
       "      <td>berlin52</td>\n",
       "      <td>52</td>\n",
       "      <td>1326</td>\n",
       "      <td>instancias/dadas/berlin52.txt</td>\n",
       "    </tr>\n",
       "    <tr>\n",
       "      <th>1</th>\n",
       "      <td>dadas</td>\n",
       "      <td>ulysses16</td>\n",
       "      <td>16</td>\n",
       "      <td>120</td>\n",
       "      <td>instancias/dadas/ulysses16.txt</td>\n",
       "    </tr>\n",
       "    <tr>\n",
       "      <th>2</th>\n",
       "      <td>dadas</td>\n",
       "      <td>st70</td>\n",
       "      <td>70</td>\n",
       "      <td>2415</td>\n",
       "      <td>instancias/dadas/st70.txt</td>\n",
       "    </tr>\n",
       "    <tr>\n",
       "      <th>3</th>\n",
       "      <td>dadas</td>\n",
       "      <td>kroE100</td>\n",
       "      <td>100</td>\n",
       "      <td>4950</td>\n",
       "      <td>instancias/dadas/kroE100.txt</td>\n",
       "    </tr>\n",
       "  </tbody>\n",
       "</table>\n",
       "</div>"
      ],
      "text/plain": [
       "  dataset  instancia    N     m                         archivo\n",
       "0   dadas   berlin52   52  1326   instancias/dadas/berlin52.txt\n",
       "1   dadas  ulysses16   16   120  instancias/dadas/ulysses16.txt\n",
       "2   dadas       st70   70  2415       instancias/dadas/st70.txt\n",
       "3   dadas    kroE100  100  4950    instancias/dadas/kroE100.txt"
      ]
     },
     "execution_count": 3,
     "metadata": {},
     "output_type": "execute_result"
    }
   ],
   "source": [
    "df_dadas.head()"
   ]
  },
  {
   "cell_type": "markdown",
   "metadata": {},
   "source": [
    "Esta función _correr_exp_ va a ser usada para los experimentos no tabus"
   ]
  },
  {
   "cell_type": "code",
   "execution_count": 4,
   "metadata": {},
   "outputs": [],
   "source": [
    "def correr_experimento(metodo, archivo_instancia):\n",
    "    \n",
    "    # Leer archivo de la instancia.\n",
    "    instancia = leer_instancia(archivo_instancia)\n",
    "    \n",
    "    # Crear proceso para ejecutar el codigo.\n",
    "    process = subprocess.Popen([\"../tsp.exe\", metodo], stderr=subprocess.PIPE, stdout=subprocess.PIPE, stdin=subprocess.PIPE, universal_newlines = True)\n",
    "\n",
    "\n",
    "    # Poner la instancia en la entrada estandar.\n",
    "    process.stdin.write(instancia)\n",
    "    process.stdin.flush()\n",
    "\n",
    "    # Correr experimento.\n",
    "    exit_code = process.wait()\n",
    "\n",
    "    # Verificar que el proceso no fallo.\n",
    "    if exit_code != 0: raise(F\"Hubo un error en la experimentacion para el algoritmo: {algoritmo} con la instancia {archivo_instancia}.\")\n",
    "    # Leer salida de STDERR con los tiempos de ejecucion de cada metodo.\n",
    "    tiempo_de_ejecucion = float(process.stderr.read());\n",
    "    res=process.stdout.read();\n",
    "    res=res.split()\n",
    "    process.stdin.close();\n",
    "    process.stdout.close();\n",
    "    process.stderr.close();\n",
    "    \n",
    "    return (res[1],tiempo_de_ejecucion);"
   ]
  },
  {
   "cell_type": "markdown",
   "metadata": {},
   "source": [
    "Esta función para tabu(vamos a usar el de abajo de este)"
   ]
  },
  {
   "cell_type": "code",
   "execution_count": 5,
   "metadata": {},
   "outputs": [],
   "source": [
    "def correr_experimentoTabu(cantIter,tamMem,tipoMem,subVec,metodo,archivo_instancia):\n",
    "    # Leer archivo de la instancia.\n",
    "    instancia =cantIter+' '+tamMem+' '+tipoMem+' '+subVec+' '+leer_instancia(archivo_instancia)\n",
    "    \n",
    "    # Crear proceso para ejecutar el codigo.\n",
    "    process = subprocess.Popen([\"../tsp.exe\", metodo], stderr=subprocess.PIPE, stdout=subprocess.PIPE, stdin=subprocess.PIPE, universal_newlines = True)\n",
    "\n",
    "    # Poner la instancia en la entrada estandar.\n",
    "    process.stdin.write(instancia)\n",
    "    process.stdin.flush()\n",
    "\n",
    "    # Correr experimento.\n",
    "    exit_code = process.wait()\n",
    "\n",
    "    # Verificar que el proceso no fallo.\n",
    "    if exit_code != 0: raise(F\"Hubo un error en la experimentacion para el algoritmo: {algoritmo} con la instancia {archivo_instancia}.\")\n",
    "    # Leer salida de STDERR con los tiempos de ejecucion de cada metodo.\n",
    "    tiempo_de_ejecucion = float(process.stderr.read());\n",
    "    res=process.stdout.read();\n",
    "    res=res.split()\n",
    "    \n",
    "    process.stdin.close();\n",
    "    process.stdout.close();\n",
    "    process.stderr.close();\n",
    "    \n",
    "    return (res[1],tiempo_de_ejecucion);"
   ]
  },
  {
   "cell_type": "code",
   "execution_count": 6,
   "metadata": {},
   "outputs": [],
   "source": [
    "def correr_experimentoTabuSOL(cantIter,tamMem,tipoMem,subVec,metodo,archivo_instancia):\n",
    "    # Leer archivo de la instancia.\n",
    "    instancia =cantIter+' '+tamMem+' '+tipoMem+' '+subVec+' '+leer_instancia(archivo_instancia)\n",
    "    \n",
    "    # Crear proceso para ejecutar el codigo.\n",
    "    process = subprocess.Popen([\"../tsp.exe\", metodo], stderr=subprocess.PIPE, stdout=subprocess.PIPE, stdin=subprocess.PIPE, universal_newlines = True)\n",
    "\n",
    "    # Poner la instancia en la entrada estandar.\n",
    "    process.stdin.write(instancia)\n",
    "    process.stdin.flush()\n",
    "\n",
    "    # Correr experimento.\n",
    "    exit_code = process.wait()\n",
    "\n",
    "    # Verificar que el proceso no fallo.\n",
    "    if exit_code != 0: raise(F\"Hubo un error en la experimentacion para el algoritmo: {algoritmo} con la instancia {archivo_instancia}.\")\n",
    "    # Leer salida de STDERR con los tiempos de ejecucion de cada metodo.\n",
    "    tiempo_de_ejecucion = float(process.stderr.read());\n",
    "    res=process.stdout.read();\n",
    "   \n",
    "    process.stdin.close();\n",
    "    process.stdout.close();\n",
    "    process.stderr.close();\n",
    "    \n",
    "    return (res,tiempo_de_ejecucion);"
   ]
  },
  {
   "cell_type": "code",
   "execution_count": 7,
   "metadata": {},
   "outputs": [],
   "source": [
    "experimentosNoTabu=[]\n",
    "experimentosTabu=[]\n",
    "experimentosTabuPropios=[]"
   ]
  },
  {
   "cell_type": "code",
   "execution_count": 8,
   "metadata": {},
   "outputs": [
    {
     "data": {
      "text/plain": [
       "'10 10 0 20'"
      ]
     },
     "execution_count": 8,
     "metadata": {},
     "output_type": "execute_result"
    }
   ],
   "source": [
    "A=\"10\"\n",
    "B=\"10\"\n",
    "C=\"0\"\n",
    "D=\"20\"\n",
    "p=(A+' '+B+' '+C+' '+D)\n",
    "p"
   ]
  },
  {
   "cell_type": "code",
   "execution_count": 9,
   "metadata": {},
   "outputs": [
    {
     "data": {
      "text/plain": [
       "0"
      ]
     },
     "execution_count": 9,
     "metadata": {},
     "output_type": "execute_result"
    }
   ],
   "source": [
    "len(experimentosTabu)"
   ]
  },
  {
   "cell_type": "code",
   "execution_count": 10,
   "metadata": {},
   "outputs": [],
   "source": [
    "for n in range(0, 5):                                                                       \n",
    "    fila_n = df_random.iloc[n];\n",
    "    experimentosNoTabu.append([fila_n[\"dataset\"],fila_n[\"N\"], fila_n[\"m\"],\"BG\", fila_n[\"archivo\"]]);\n",
    "    \n",
    "for n in range(0, 5):                                                                       \n",
    "    fila_n = df_random.iloc[n];\n",
    "    experimentosNoTabu.append([fila_n[\"dataset\"], fila_n[\"N\"], fila_n[\"m\"], \"AGM\", fila_n[\"archivo\"]]);\n",
    "    \n",
    "for n in range(0, 5):                                                                       \n",
    "    fila_n = df_random.iloc[n];\n",
    "    experimentosNoTabu.append([fila_n[\"dataset\"], fila_n[\"N\"], fila_n[\"m\"], \"BL\", fila_n[\"archivo\"]]);\n",
    "    \n",
    "for n in range(0, 5):                                                                       \n",
    "    fila_n = df_randomVariacionAlta.iloc[n];\n",
    "    experimentosNoTabu.append([fila_n[\"dataset\"],fila_n[\"N\"], fila_n[\"m\"],\"BG\", fila_n[\"archivo\"]]);\n",
    "    \n",
    "for n in range(0, 5):                                                                       \n",
    "    fila_n = df_randomVariacionAlta.iloc[n];\n",
    "    experimentosNoTabu.append([fila_n[\"dataset\"], fila_n[\"N\"], fila_n[\"m\"], \"AGM\", fila_n[\"archivo\"]]);\n",
    "    \n",
    "for n in range(0, 5):                                                                       \n",
    "    fila_n = df_randomVariacionAlta.iloc[n];\n",
    "    experimentosNoTabu.append([fila_n[\"dataset\"], fila_n[\"N\"], fila_n[\"m\"], \"BL\", fila_n[\"archivo\"]]);"
   ]
  },
  {
   "cell_type": "code",
   "execution_count": 11,
   "metadata": {},
   "outputs": [],
   "source": [
    "for n in range(0, 4):                                                                       \n",
    "    fila_n = df_dadas.iloc[n];\n",
    "    experimentosNoTabu.append([fila_n[\"dataset\"],fila_n[\"N\"], fila_n[\"m\"],\"BG\", fila_n[\"archivo\"]]);\n",
    "    \n",
    "for n in range(0, 4):                                                                       \n",
    "    fila_n = df_dadas.iloc[n];\n",
    "    experimentosNoTabu.append([fila_n[\"dataset\"], fila_n[\"N\"], fila_n[\"m\"], \"AGM\", fila_n[\"archivo\"]]);\n",
    "    \n",
    "for n in range(0, 4):                                                                       \n",
    "    fila_n = df_dadas.iloc[n];\n",
    "    experimentosNoTabu.append([fila_n[\"dataset\"], fila_n[\"N\"], fila_n[\"m\"], \"BL\", fila_n[\"archivo\"]]);"
   ]
  },
  {
   "cell_type": "markdown",
   "metadata": {},
   "source": [
    "de aca para abajo son los exp de tabu"
   ]
  },
  {
   "cell_type": "code",
   "execution_count": 12,
   "metadata": {},
   "outputs": [],
   "source": [
    "#nuestras instancias evaluadas en subvecindad 20, memo 0, tamaño memo 30% de cantIt, cantIt 1000 y 100  en los dos tipos de memo\n",
    "for n in range(0, 5):\n",
    "    fila_n = df_random.iloc[n];\n",
    "    experimentosTabuPropios.append([fila_n[\"dataset\"], fila_n[\"N\"], fila_n[\"m\"],\"100\",\"30\",\"0\",\"20\",\"TABUSOL\", fila_n[\"archivo\"]]);\n",
    "for n in range(0, 5):\n",
    "    fila_n = df_random.iloc[n];\n",
    "    experimentosTabuPropios.append([fila_n[\"dataset\"], fila_n[\"N\"], fila_n[\"m\"],\"1000\",\"300\",\"0\",\"20\",\"TABUSOL\", fila_n[\"archivo\"]]);\n",
    "\n",
    "for n in range(0, 5):\n",
    "    fila_n = df_randomVariacionAlta.iloc[n];\n",
    "    experimentosTabuPropios.append([fila_n[\"dataset\"], fila_n[\"N\"], fila_n[\"m\"],\"100\",\"30\",\"0\",\"20\",\"TABUSOL\", fila_n[\"archivo\"]]);\n",
    "for n in range(0, 5):\n",
    "    fila_n = df_randomVariacionAlta.iloc[n];\n",
    "    experimentosTabuPropios.append([fila_n[\"dataset\"], fila_n[\"N\"], fila_n[\"m\"],\"1000\",\"300\",\"0\",\"20\",\"TABUSOL\", fila_n[\"archivo\"]]);\n",
    "    \n",
    "for n in range(0, 5):\n",
    "    fila_n = df_random.iloc[n];\n",
    "    experimentosTabuPropios.append([fila_n[\"dataset\"], fila_n[\"N\"], fila_n[\"m\"],\"100\",\"30\",\"1\",\"20\",\"TABUSOL\", fila_n[\"archivo\"]]);\n",
    "for n in range(0, 5):\n",
    "    fila_n = df_random.iloc[n];\n",
    "    experimentosTabuPropios.append([fila_n[\"dataset\"], fila_n[\"N\"], fila_n[\"m\"],\"1000\",\"300\",\"1\",\"20\",\"TABUSOL\", fila_n[\"archivo\"]]);\n",
    "\n",
    "for n in range(0, 5):\n",
    "    fila_n = df_randomVariacionAlta.iloc[n];\n",
    "    experimentosTabuPropios.append([fila_n[\"dataset\"], fila_n[\"N\"], fila_n[\"m\"],\"100\",\"30\",\"1\",\"20\",\"TABUSOL\", fila_n[\"archivo\"]]);\n",
    "for n in range(0, 5):\n",
    "    fila_n = df_randomVariacionAlta.iloc[n];\n",
    "    experimentosTabuPropios.append([fila_n[\"dataset\"], fila_n[\"N\"], fila_n[\"m\"],\"1000\",\"300\",\"1\",\"20\",\"TABUSOL\", fila_n[\"archivo\"]]);"
   ]
  },
  {
   "cell_type": "markdown",
   "metadata": {
    "tags": []
   },
   "source": [
    "Aca se dan instancias"
   ]
  },
  {
   "cell_type": "code",
   "execution_count": 13,
   "metadata": {},
   "outputs": [],
   "source": [
    "\n",
    "#cambios en memo (tamaño(0 100 500 1000) y tipo)\n",
    "for n in range(0, 4):\n",
    "    fila_n = df_dadas.iloc[n];\n",
    "    experimentosTabu.append([fila_n[\"dataset\"], fila_n[\"N\"], fila_n[\"m\"],\"500\",\"0\",\"0\",\"20\",\"TABUSOL\", fila_n[\"archivo\"]]);\n",
    "for n in range(0, 4):\n",
    "    fila_n = df_dadas.iloc[n];\n",
    "    experimentosTabu.append([fila_n[\"dataset\"], fila_n[\"N\"], fila_n[\"m\"],\"500\",\"50\",\"0\",\"20\",\"TABUSOL\", fila_n[\"archivo\"]]);\n",
    "for n in range(0, 4):\n",
    "    fila_n = df_dadas.iloc[n];\n",
    "    experimentosTabu.append([fila_n[\"dataset\"], fila_n[\"N\"], fila_n[\"m\"],\"500\",\"250\",\"0\",\"20\",\"TABUSOL\", fila_n[\"archivo\"]]);\n",
    "for n in range(0, 4):\n",
    "    fila_n = df_dadas.iloc[n];\n",
    "    experimentosTabu.append([fila_n[\"dataset\"], fila_n[\"N\"], fila_n[\"m\"],\"500\",\"500\",\"0\",\"20\",\"TABUSOL\", fila_n[\"archivo\"]]);    \n",
    "    \n",
    "for n in range(0, 4):\n",
    "    fila_n = df_dadas.iloc[n];\n",
    "    experimentosTabu.append([fila_n[\"dataset\"], fila_n[\"N\"], fila_n[\"m\"],\"500\",\"0\",\"1\",\"20\",\"TABUSOL\", fila_n[\"archivo\"]]);\n",
    "for n in range(0, 4):\n",
    "    fila_n = df_dadas.iloc[n];\n",
    "    experimentosTabu.append([fila_n[\"dataset\"], fila_n[\"N\"], fila_n[\"m\"],\"500\",\"50\",\"1\",\"20\",\"TABUSOL\", fila_n[\"archivo\"]]);\n",
    "for n in range(0, 4):\n",
    "    fila_n = df_dadas.iloc[n];\n",
    "    experimentosTabu.append([fila_n[\"dataset\"], fila_n[\"N\"], fila_n[\"m\"],\"500\",\"250\",\"1\",\"20\",\"TABUSOL\", fila_n[\"archivo\"]]);\n",
    "for n in range(0, ):\n",
    "    fila_n = df_dadas.iloc[n];\n",
    "    experimentosTabu.append([fila_n[\"dataset\"], fila_n[\"N\"], fila_n[\"m\"],\"500\",\"500\",\"1\",\"20\",\"TABUSOL\", fila_n[\"archivo\"]]);    "
   ]
  },
  {
   "cell_type": "code",
   "execution_count": 14,
   "metadata": {},
   "outputs": [],
   "source": [
    "#cambios en tamaño de instancia(10 100 300 1000) en los dos tipos de memo\n",
    "for n in range(0, 4):\n",
    "    fila_n = df_dadas.iloc[n];\n",
    "    experimentosTabu.append([fila_n[\"dataset\"], fila_n[\"N\"], fila_n[\"m\"],\"10\",\"0\",\"0\",\"20\",\"TABUSOL\", fila_n[\"archivo\"]]);\n",
    "for n in range(0, 4):\n",
    "    fila_n = df_dadas.iloc[n];\n",
    "    experimentosTabu.append([fila_n[\"dataset\"], fila_n[\"N\"], fila_n[\"m\"],\"100\",\"50\",\"0\",\"20\",\"TABUSOL\", fila_n[\"archivo\"]]);\n",
    "for n in range(0, 4):\n",
    "    fila_n = df_dadas.iloc[n];\n",
    "    experimentosTabu.append([fila_n[\"dataset\"], fila_n[\"N\"], fila_n[\"m\"],\"300\",\"150\",\"0\",\"20\",\"TABUSOL\", fila_n[\"archivo\"]]);\n",
    "for n in range(0, 4):\n",
    "    fila_n = df_dadas.iloc[n];\n",
    "    experimentosTabu.append([fila_n[\"dataset\"], fila_n[\"N\"], fila_n[\"m\"],\"1000\",\"500\",\"0\",\"20\",\"TABUSOL\", fila_n[\"archivo\"]]);    \n",
    "    \n",
    "for n in range(0, 4):\n",
    "    fila_n = df_dadas.iloc[n];\n",
    "    experimentosTabu.append([fila_n[\"dataset\"], fila_n[\"N\"], fila_n[\"m\"],\"10\",\"0\",\"1\",\"20\",\"TABUSOL\", fila_n[\"archivo\"]]);\n",
    "for n in range(0, 4):\n",
    "    fila_n = df_dadas.iloc[n];\n",
    "    experimentosTabu.append([fila_n[\"dataset\"], fila_n[\"N\"], fila_n[\"m\"],\"100\",\"50\",\"1\",\"20\",\"TABUSOL\", fila_n[\"archivo\"]]);\n",
    "for n in range(0, 4):\n",
    "    fila_n = df_dadas.iloc[n];\n",
    "    experimentosTabu.append([fila_n[\"dataset\"], fila_n[\"N\"], fila_n[\"m\"],\"300\",\"150\",\"1\",\"20\",\"TABUSOL\", fila_n[\"archivo\"]]);\n",
    "for n in range(0, 4):\n",
    "    fila_n = df_dadas.iloc[n];\n",
    "    experimentosTabu.append([fila_n[\"dataset\"], fila_n[\"N\"], fila_n[\"m\"],\"1000\",\"500\",\"1\",\"20\",\"TABUSOL\", fila_n[\"archivo\"]]);    "
   ]
  },
  {
   "cell_type": "code",
   "execution_count": 15,
   "metadata": {},
   "outputs": [],
   "source": [
    "#cambios de subvecindad(1 20 50 y 100) por tipo de memo en dos tamaños distintos de memo(10 y 100)\n",
    "for n in range(0, 4):\n",
    "    fila_n = df_dadas.iloc[n];\n",
    "    experimentosTabu.append([fila_n[\"dataset\"], fila_n[\"N\"], fila_n[\"m\"],\"100\",\"10\",\"0\",\"1\",\"TABUSOL\", fila_n[\"archivo\"]]);\n",
    "for n in range(0, 4):\n",
    "    fila_n = df_dadas.iloc[n];\n",
    "    experimentosTabu.append([fila_n[\"dataset\"], fila_n[\"N\"], fila_n[\"m\"],\"100\",\"10\",\"0\",\"20\",\"TABUSOL\", fila_n[\"archivo\"]]);\n",
    "for n in range(0, 4):\n",
    "    fila_n = df_dadas.iloc[n];\n",
    "    experimentosTabu.append([fila_n[\"dataset\"], fila_n[\"N\"], fila_n[\"m\"],\"100\",\"10\",\"0\",\"50\",\"TABUSOL\", fila_n[\"archivo\"]]);\n",
    "for n in range(0, 4):\n",
    "    fila_n = df_dadas.iloc[n];\n",
    "    experimentosTabu.append([fila_n[\"dataset\"], fila_n[\"N\"], fila_n[\"m\"],\"100\",\"10\",\"0\",\"100\",\"TABUSOL\", fila_n[\"archivo\"]]);   \n",
    "    \n",
    "for n in range(0, 4):\n",
    "    fila_n = df_dadas.iloc[n];\n",
    "    experimentosTabu.append([fila_n[\"dataset\"], fila_n[\"N\"], fila_n[\"m\"],\"100\",\"100\",\"0\",\"20\",\"TABUSOL\", fila_n[\"archivo\"]]);\n",
    "for n in range(0, 4):\n",
    "    fila_n = df_dadas.iloc[n];\n",
    "    experimentosTabu.append([fila_n[\"dataset\"], fila_n[\"N\"], fila_n[\"m\"],\"100\",\"100\",\"0\",\"20\",\"TABUSOL\", fila_n[\"archivo\"]]);\n",
    "for n in range(0, 4):\n",
    "    fila_n = df_dadas.iloc[n];\n",
    "    experimentosTabu.append([fila_n[\"dataset\"], fila_n[\"N\"], fila_n[\"m\"],\"100\",\"100\",\"0\",\"50\",\"TABUSOL\", fila_n[\"archivo\"]]);\n",
    "for n in range(0, 4):\n",
    "    fila_n = df_dadas.iloc[n];\n",
    "    experimentosTabu.append([fila_n[\"dataset\"], fila_n[\"N\"], fila_n[\"m\"],\"100\",\"100\",\"0\",\"100\",\"TABUSOL\", fila_n[\"archivo\"]]);    \n",
    "\n",
    "for n in range(0, 4):\n",
    "    fila_n = df_dadas.iloc[n];\n",
    "    experimentosTabu.append([fila_n[\"dataset\"], fila_n[\"N\"], fila_n[\"m\"],\"100\",\"10\",\"1\",\"1\",\"TABUSOL\", fila_n[\"archivo\"]]);\n",
    "for n in range(0, 4):\n",
    "    fila_n = df_dadas.iloc[n];\n",
    "    experimentosTabu.append([fila_n[\"dataset\"], fila_n[\"N\"], fila_n[\"m\"],\"100\",\"10\",\"1\",\"20\",\"TABUSOL\", fila_n[\"archivo\"]]);\n",
    "for n in range(0, 4):\n",
    "    fila_n = df_dadas.iloc[n];\n",
    "    experimentosTabu.append([fila_n[\"dataset\"], fila_n[\"N\"], fila_n[\"m\"],\"100\",\"10\",\"1\",\"50\",\"TABUSOL\", fila_n[\"archivo\"]]);\n",
    "for n in range(0, 4):\n",
    "    fila_n = df_dadas.iloc[n];\n",
    "    experimentosTabu.append([fila_n[\"dataset\"], fila_n[\"N\"], fila_n[\"m\"],\"100\",\"10\",\"1\",\"100\",\"TABUSOL\", fila_n[\"archivo\"]]);   \n",
    "    \n",
    "for n in range(0, 4):\n",
    "    fila_n = df_dadas.iloc[n];\n",
    "    experimentosTabu.append([fila_n[\"dataset\"], fila_n[\"N\"], fila_n[\"m\"],\"100\",\"100\",\"1\",\"1\",\"TABUSOL\", fila_n[\"archivo\"]]);\n",
    "for n in range(0, 4):\n",
    "    fila_n = df_dadas.iloc[n];\n",
    "    experimentosTabu.append([fila_n[\"dataset\"], fila_n[\"N\"], fila_n[\"m\"],\"100\",\"100\",\"1\",\"20\",\"TABUSOL\", fila_n[\"archivo\"]]);\n",
    "for n in range(0, 4):\n",
    "    fila_n = df_dadas.iloc[n];\n",
    "    experimentosTabu.append([fila_n[\"dataset\"], fila_n[\"N\"], fila_n[\"m\"],\"100\",\"100\",\"1\",\"50\",\"TABUSOL\", fila_n[\"archivo\"]]);\n",
    "for n in range(0, 4):\n",
    "    fila_n = df_dadas.iloc[n];\n",
    "    experimentosTabu.append([fila_n[\"dataset\"], fila_n[\"N\"], fila_n[\"m\"],\"100\",\"100\",\"1\",\"100\",\"TABUSOL\", fila_n[\"archivo\"]]);    "
   ]
  },
  {
   "cell_type": "markdown",
   "metadata": {},
   "source": [
    "Estas acciones son para no tabu"
   ]
  },
  {
   "cell_type": "code",
   "execution_count": null,
   "metadata": {},
   "outputs": [],
   "source": [
    "columnas = [\"dataset\", \"N\", \"m\", \"metodo\",\"costoMin\",\"tiempo\"];\n",
    "filas = [];\n",
    "numero = 1\n",
    "T = 5 # Numero de veces que se ejecuta cada experimento (para mayor fidelidad del tiempo).\n",
    "for experimento in experimentosNoTabu:\n",
    "    # Voy mostrando que experimento se esta ejecutando.\n",
    "    clear_output(wait=True)\n",
    "    display('Experimento: ' + str(numero) + \"/\" + str(len(experimentosNoTabu))+ \" \" + experimento[0] + \" \" + str(experimento[1]) + \" \" + experimento[3])\n",
    "    numero += 1\n",
    "    \n",
    " \n",
    "    # Ejecutamos el experimento T veces y obtenemos la mediana.\n",
    "    tiempos = []\n",
    "    for i in range(0, T):\n",
    "        res=correr_experimento(experimento[3], experimento[4]);\n",
    "        tiempos.append(res[1]);\n",
    "        costoMin=res[0]\n",
    "    tiempo = np.median(tiempos);\n",
    "    filas.append([experimento[0], experimento[1], experimento[2], experimento[3],costoMin,tiempo]);\n",
    "df_resultado = pd.DataFrame(filas, columns=columnas);\n",
    "df_resultado.to_csv(\"resultados/resultadoNoTabu.csv\", index=False, header=True);"
   ]
  },
  {
   "cell_type": "markdown",
   "metadata": {},
   "source": [
    "este es para nuestras instancias(en tabu)"
   ]
  },
  {
   "cell_type": "code",
   "execution_count": null,
   "metadata": {},
   "outputs": [],
   "source": [
    "columnas = [\"dataset\", \"N\", \"m\", \"metodo\",\"cantIt\",\"tamMem\",\"tipoMem\",\"subvecindad\",\"soluciones\",\"tiempo\",\"costoMin\"];\n",
    "filas = [];\n",
    "numero = 1\n",
    "T = 5 # Numero de veces que se ejecuta cada experimento (para mayor fidelidad del tiempo).\n",
    "for experimento in experimentosTabuPropios:\n",
    "    # Voy mostrando que experimento se esta ejecutando.\n",
    "    clear_output(wait=True)\n",
    "    display('Experimento: ' + str(numero) + \"/\" + str(len(experimentosTabuPropios))+ \" \" + experimento[0] + \" \" + str(experimento[1]) + \" \" + experimento[7])\n",
    "    numero += 1\n",
    "    \n",
    "    \n",
    "    # Ejecutamos el experimento T veces y obtenemos la mediana.\n",
    "    tiempos = []\n",
    "    for i in range(0, T):\n",
    "        res=correr_experimentoTabuSOL(experimento[3], experimento[4],experimento[5],experimento[6],experimento[7],experimento[8]);\n",
    "        tiempos.append(res[1]);\n",
    "    tiempo = np.median(tiempos);\n",
    "    solucionesSTR=res[0]\n",
    "    soluciones=solucionesSTR.split();\n",
    "    solEnInt = [int(i) for i in soluciones]\n",
    "    costoMin=min(solEnInt)\n",
    "    filas.append([experimento[0], experimento[1], experimento[2], experimento[7],experimento[3], experimento[4],experimento[5],experimento[6],solucionesSTR,tiempo,costoMin]);\n",
    "df_resultado = pd.DataFrame(filas, columns=columnas);\n",
    "df_resultado.to_csv(\"resultados/resultadoTabuNuestros.csv\", index=False, header=True);"
   ]
  },
  {
   "cell_type": "markdown",
   "metadata": {},
   "source": [
    "este es para ver todas las soluciones por iteracion de TABU dadas (usado para gráficos) (de ser necesario el costo minimo es el min(soluciones))"
   ]
  },
  {
   "cell_type": "code",
   "execution_count": null,
   "metadata": {},
   "outputs": [],
   "source": [
    "columnas = [\"dataset\", \"N\", \"m\", \"metodo\",\"cantIt\",\"tamMem\",\"tipoMem\",\"subvecindad\",\"soluciones\",\"tiempo\",\"costoMin\"];\n",
    "filas = [];\n",
    "numero = 1\n",
    "T = 5 # Numero de veces que se ejecuta cada experimento (para mayor fidelidad del tiempo).\n",
    "for experimento in experimentosTabu:\n",
    "    # Voy mostrando que experimento se esta ejecutando.\n",
    "    clear_output(wait=True)\n",
    "    display('Experimento: ' + str(numero) + \"/\" + str(len(experimentosTabu))+ \" \" + experimento[0] + \" \" + str(experimento[1]) + \" \" + experimento[7])\n",
    "    numero += 1\n",
    "    \n",
    "    \n",
    "    # Ejecutamos el experimento T veces y obtenemos la mediana.\n",
    "    tiempos = []\n",
    "    for i in range(0, T):\n",
    "        res=correr_experimentoTabuSOL(experimento[3], experimento[4],experimento[5],experimento[6],experimento[7],experimento[8]);\n",
    "        tiempos.append(res[1]);\n",
    "    tiempo = np.median(tiempos);\n",
    "    solucionesSTR=res[0]\n",
    "    soluciones=solucionesSTR.split();\n",
    "    solEnInt = [int(i) for i in soluciones]\n",
    "    costoMin=min(solEnInt)\n",
    "    filas.append([experimento[0], experimento[1], experimento[2], experimento[7],experimento[3], experimento[4],experimento[5],experimento[6],solucionesSTR,tiempo,costoMin]);\n",
    "df_resultado = pd.DataFrame(filas, columns=columnas);\n",
    "df_resultado.to_csv(\"resultados/resultadoTabu.csv\", index=False, header=True);"
   ]
  },
  {
   "cell_type": "code",
   "execution_count": null,
   "metadata": {},
   "outputs": [],
   "source": [
    "prueba=correr_experimentoTabuSOL(\"10\",\"5\",\"0\",\"20\",\"TABUSOL\",F\"instancias/dadas/berlin52.txt\")"
   ]
  },
  {
   "cell_type": "code",
   "execution_count": null,
   "metadata": {},
   "outputs": [],
   "source": [
    "prueba"
   ]
  },
  {
   "cell_type": "code",
   "execution_count": null,
   "metadata": {},
   "outputs": [],
   "source": [
    "soluciones=\"15 2 3 4 5 4 52 410\"\n",
    "soluciones=soluciones.split()\n",
    "solEnInt = [int(i) for i in soluciones]\n",
    "costoMin=min(solEnInt)\n",
    "costoMin"
   ]
  }
 ],
 "metadata": {
  "kernelspec": {
   "display_name": "Python 3 (ipykernel)",
   "language": "python",
   "name": "python3"
  },
  "language_info": {
   "codemirror_mode": {
    "name": "ipython",
    "version": 3
   },
   "file_extension": ".py",
   "mimetype": "text/x-python",
   "name": "python",
   "nbconvert_exporter": "python",
   "pygments_lexer": "ipython3",
   "version": "3.7.0"
  }
 },
 "nbformat": 4,
 "nbformat_minor": 4
}
