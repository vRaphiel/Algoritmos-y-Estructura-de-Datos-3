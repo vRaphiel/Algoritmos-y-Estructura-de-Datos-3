{
 "cells": [
  {
   "cell_type": "code",
   "execution_count": 16,
   "metadata": {},
   "outputs": [],
   "source": [
    "import tsplib95 as tl\n",
    "import pandas as pd\n",
    "import random, math"
   ]
  },
  {
   "cell_type": "code",
   "execution_count": 17,
   "metadata": {},
   "outputs": [],
   "source": [
    "def generar_instancia(archivo_entrada, archivo_salida):\n",
    "        prob = tl.load(archivo_entrada)\n",
    "        salida = open(archivo_salida,'w')\n",
    "\n",
    "        grafo = prob.get_graph()\n",
    "\n",
    "        print(grafo.number_of_nodes(),grafo.number_of_edges(), file=salida)\n",
    "        for u,v in grafo.edges:\n",
    "            if u<v:\n",
    "               print(u,v,grafo.get_edge_data(u,v)['weight'], file=salida)\n",
    "        return grafo"
   ]
  },
  {
   "cell_type": "markdown",
   "metadata": {},
   "source": [
    "Codigo necesario para generar el archivo .csv"
   ]
  },
  {
   "cell_type": "markdown",
   "metadata": {},
   "source": [
    "# IMPORTANTE"
   ]
  },
  {
   "cell_type": "markdown",
   "metadata": {},
   "source": [
    "Cada vez que se crean las instancias dadas, la cantidad de aristas se coloca manualmente. Esto se debe a que el generador de instancias por algún motivo (por lo menos en este caso), coloca mal la cantidad de aristas y al ingresar el archivo para hacer pruebas el programa no funciona\n",
    "Para tomar esta decision hicimos varias pruebas donde el generador ponia mayor cantidad de aristas de las que se estaba brindando y, efectuando a mano las ecuaciones para medir la cantidad de aristas totales del grafo respecto a los vertices ya que se trata de un grafo completo, existe una incongruencia con el generador y las formulas y resultados"
   ]
  },
  {
   "cell_type": "code",
   "execution_count": 18,
   "metadata": {},
   "outputs": [
    {
     "data": {
      "text/plain": [
       "0"
      ]
     },
     "execution_count": 18,
     "metadata": {},
     "output_type": "execute_result"
    }
   ],
   "source": [
    "filas_indice = []\n",
    "len(filas_indice)"
   ]
  },
  {
   "cell_type": "code",
   "execution_count": 19,
   "metadata": {},
   "outputs": [],
   "source": [
    "#grafo = generar_instancia(archivo_entrada='./instancias/dadas/berlin52.tsp.txt' , archivo_salida='./instancias/dadas/berlin52.txt');\n",
    "filas_indice.append([\"dadas\",F\"berlin52\",52,1326,F\"instancias/dadas/berlin52.txt\"])"
   ]
  },
  {
   "cell_type": "code",
   "execution_count": 20,
   "metadata": {},
   "outputs": [],
   "source": [
    "#grafo = generar_instancia(archivo_entrada='./instancias/dadas/ulysses16.tsp.txt' , archivo_salida='./instancias/dadas/ulysses16.txt');\n",
    "filas_indice.append([\"dadas\",F\"ulysses16\",16,120,F\"instancias/dadas/ulysses16.txt\"])"
   ]
  },
  {
   "cell_type": "code",
   "execution_count": 21,
   "metadata": {},
   "outputs": [],
   "source": [
    "#grafo = generar_instancia(archivo_entrada='./instancias/dadas/st70.tsp.txt' , archivo_salida='./instancias/dadas/st70.txt');\n",
    "filas_indice.append([\"dadas\",F\"st70\",70,2415,F\"instancias/dadas/st70.txt\"])"
   ]
  },
  {
   "cell_type": "code",
   "execution_count": 22,
   "metadata": {},
   "outputs": [],
   "source": [
    "#grafo = generar_instancia(archivo_entrada='./instancias/dadas/a280.tsp.txt' , archivo_salida='./instancias/dadas/a280.txt');\n",
    "#filas_indice.append([\"dadas\",F\"a280\",280,39060,F\"instancias/dadas/a280.txt\"])"
   ]
  },
  {
   "cell_type": "code",
   "execution_count": 23,
   "metadata": {},
   "outputs": [],
   "source": [
    "#grafo = generar_instancia(archivo_entrada='./instancias/dadas/kroE100.tsp.txt' , archivo_salida='./instancias/dadas/kroE100.txt');\n",
    "filas_indice.append([\"dadas\",F\"kroE100\",100,4950,F\"instancias/dadas/kroE100.txt\"])"
   ]
  },
  {
   "cell_type": "code",
   "execution_count": 24,
   "metadata": {},
   "outputs": [],
   "source": [
    "pd.DataFrame(filas_indice, columns=[\"dataset\", \"instancia\", \"N\",\"m\",\"archivo\"]).to_csv(\"instancias/dadas/indice.csv\", index=False, header=True)"
   ]
  },
  {
   "cell_type": "code",
   "execution_count": 25,
   "metadata": {},
   "outputs": [],
   "source": [
    "def save_instance(dataset, instance_name, aristas, N,M):\n",
    "    with open(F\"instancias/{dataset}/{instance_name}.txt\", \"w\") as f:\n",
    "        print (N, M, file=f)   \n",
    "        for ar in aristas: \n",
    "            print(ar, file=f, end=\" \")\n",
    "\n",
    "def save_index(dataset, instances):\n",
    "    with open(F\"instancias/{dataset}/instances.txt\", \"w\") as f:\n",
    "        for instance in instances: \n",
    "            print(instance, file=f)"
   ]
  },
  {
   "cell_type": "markdown",
   "metadata": {},
   "source": [
    "2 datasets randoms, N de 10 a 50, con pesos muy parecidos o muy distintos"
   ]
  },
  {
   "cell_type": "code",
   "execution_count": 27,
   "metadata": {},
   "outputs": [],
   "source": [
    "filas_indice = []\n",
    "for a in range(1, 6):\n",
    "    N=10*a\n",
    "    M = int(N*(N-1)/2)\n",
    "    aristas=[]\n",
    "    for i in range(1,N):\n",
    "        for j in range(i+1,N+1):\n",
    "            aristas.append(i)\n",
    "            aristas.append(j)\n",
    "            aristas.append(random.randint(5,20))\n",
    "    save_instance(\"random\", F\"random{a}\", aristas, N,M)\n",
    "    filas_indice.append([\"random\", F\"random{a}\", N, M, F\"instancias/random/random{a}.txt\"])\n",
    "pd.DataFrame(filas_indice, columns=[\"dataset\", \"instancia\", \"N\", \"m\", \"archivo\"]).to_csv(\"instancias/random/indice.csv\", index=False, header=True)"
   ]
  },
  {
   "cell_type": "code",
   "execution_count": 29,
   "metadata": {},
   "outputs": [],
   "source": [
    "filas_indice = []\n",
    "for a in range(1, 6):\n",
    "    N=10*a\n",
    "    M = int(N*(N-1)/2)\n",
    "    aristas=[]\n",
    "    for i in range(1,N):\n",
    "        for j in range(i+1,N+1):\n",
    "            aristas.append(i)\n",
    "            aristas.append(j)\n",
    "            aristas.append(random.randint(5,2000))\n",
    "    save_instance(\"randomVariacionAlta\", F\"randomVariacionAlta{a}\", aristas, N,M)\n",
    "    filas_indice.append([\"randomVariacionAlta\", F\"randomVariacionAlta{a}\", N, M, F\"instancias/randomVariacionAlta/randomVariacionAlta{a}.txt\"])\n",
    "pd.DataFrame(filas_indice, columns=[\"dataset\", \"instancia\", \"N\", \"m\", \"archivo\"]).to_csv(\"instancias/randomVariacionAlta/indice.csv\", index=False, header=True)"
   ]
  }
 ],
 "metadata": {
  "kernelspec": {
   "display_name": "Python 3 (ipykernel)",
   "language": "python",
   "name": "python3"
  },
  "language_info": {
   "codemirror_mode": {
    "name": "ipython",
    "version": 3
   },
   "file_extension": ".py",
   "mimetype": "text/x-python",
   "name": "python",
   "nbconvert_exporter": "python",
   "pygments_lexer": "ipython3",
   "version": "3.7.0"
  }
 },
 "nbformat": 4,
 "nbformat_minor": 4
}
